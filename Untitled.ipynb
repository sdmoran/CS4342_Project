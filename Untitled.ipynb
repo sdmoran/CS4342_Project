{
 "cells": [
  {
   "cell_type": "code",
   "execution_count": 4,
   "metadata": {},
   "outputs": [],
   "source": [
    "# Imports\n",
    "import csv\n",
    "import matplotlib.pyplot as plt\n",
    "import pandas as pd"
   ]
  },
  {
   "cell_type": "code",
   "execution_count": 5,
   "metadata": {},
   "outputs": [
    {
     "data": {
      "text/html": [
       "<div>\n",
       "<style scoped>\n",
       "    .dataframe tbody tr th:only-of-type {\n",
       "        vertical-align: middle;\n",
       "    }\n",
       "\n",
       "    .dataframe tbody tr th {\n",
       "        vertical-align: top;\n",
       "    }\n",
       "\n",
       "    .dataframe thead th {\n",
       "        text-align: right;\n",
       "    }\n",
       "</style>\n",
       "<table border=\"1\" class=\"dataframe\">\n",
       "  <thead>\n",
       "    <tr style=\"text-align: right;\">\n",
       "      <th></th>\n",
       "      <th>fixed acidity;volatile acidity;citric acid;residual sugar;chlorides;free sulfur dioxide;total sulfur dioxide;density;pH;sulphates;alcohol</th>\n",
       "    </tr>\n",
       "  </thead>\n",
       "  <tbody>\n",
       "    <tr>\n",
       "      <td>count</td>\n",
       "      <td>1279</td>\n",
       "    </tr>\n",
       "    <tr>\n",
       "      <td>unique</td>\n",
       "      <td>1130</td>\n",
       "    </tr>\n",
       "    <tr>\n",
       "      <td>top</td>\n",
       "      <td>7.2;0.36;0.46;2.1;0.07400000000000001;24.0;44....</td>\n",
       "    </tr>\n",
       "    <tr>\n",
       "      <td>freq</td>\n",
       "      <td>4</td>\n",
       "    </tr>\n",
       "  </tbody>\n",
       "</table>\n",
       "</div>"
      ],
      "text/plain": [
       "       fixed acidity;volatile acidity;citric acid;residual sugar;chlorides;free sulfur dioxide;total sulfur dioxide;density;pH;sulphates;alcohol\n",
       "count                                                1279                                                                                       \n",
       "unique                                               1130                                                                                       \n",
       "top     7.2;0.36;0.46;2.1;0.07400000000000001;24.0;44....                                                                                       \n",
       "freq                                                    4                                                                                       "
      ]
     },
     "execution_count": 5,
     "metadata": {},
     "output_type": "execute_result"
    }
   ],
   "source": [
    "# Loads a CSV file from the given path. Labels is a boolean indicating whether or not the first row gives the column labels.\n",
    "def load_from_csv(path, labels=False):\n",
    "    contents = []\n",
    "    with open(path) as csv_file:\n",
    "        csv_reader = csv.reader(csv_file, delimiter=';')\n",
    "        if labels:\n",
    "            labels = next(csv_reader)\n",
    "        for row in csv_reader:\n",
    "            contents.append([float(i) for i in row])\n",
    "        if labels:\n",
    "            return (contents, labels)\n",
    "        return contents\n",
    "\n",
    "# Load train data and names of features from CSV file\n",
    "data, feature_names = load_from_csv('./data/winequality-redTrainData.csv', labels=True)\n",
    "\n",
    "# Load labels for datapoints\n",
    "labels = load_from_csv('./data/winequality-redTrainLabel.csv')\n",
    "\n",
    "# Load test data. Like train data, also has labels.\n",
    "test_data, test_features = load_from_csv('./data/winequality-redTestData.csv', labels=True)\n",
    "\n",
    "datavis = pd.read_csv('./data/winequality-redTrainData.csv')\n",
    "datavis.describe()"
   ]
  },
  {
   "cell_type": "code",
   "execution_count": null,
   "metadata": {},
   "outputs": [],
   "source": []
  },
  {
   "cell_type": "code",
   "execution_count": null,
   "metadata": {},
   "outputs": [],
   "source": []
  }
 ],
 "metadata": {
  "kernelspec": {
   "display_name": "Python 3",
   "language": "python",
   "name": "python3"
  },
  "language_info": {
   "codemirror_mode": {
    "name": "ipython",
    "version": 3
   },
   "file_extension": ".py",
   "mimetype": "text/x-python",
   "name": "python",
   "nbconvert_exporter": "python",
   "pygments_lexer": "ipython3",
   "version": "3.6.8"
  }
 },
 "nbformat": 4,
 "nbformat_minor": 4
}
