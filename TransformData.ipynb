{
 "cells": [
  {
   "cell_type": "markdown",
   "metadata": {},
   "source": [
    "### This file is for transforming the data from its original form into one more usable by Pandas, Seaborn, etc.\n",
    "This is mostly utility stuff."
   ]
  },
  {
   "cell_type": "code",
   "execution_count": null,
   "metadata": {},
   "outputs": [],
   "source": [
    "# Imports\n",
    "import csv"
   ]
  },
  {
   "cell_type": "code",
   "execution_count": null,
   "metadata": {},
   "outputs": [],
   "source": [
    "import csv\n",
    "with open('TrainData_Labeled.csv', 'w', newline='') as csvfile:\n",
    "    writer = csv.writer(csvfile)\n",
    "    writer.writerow(feature_names)\n",
    "    for row in labeled_data:\n",
    "        writer.writerow(row)"
   ]
  },
  {
   "cell_type": "code",
   "execution_count": null,
   "metadata": {},
   "outputs": [],
   "source": [
    "# Loads a CSV file from the given path\n",
    "# @param path: the path of the file to open\n",
    "# @param Labels: A boolean indicating whether or not the first row gives the column labels.\n",
    "def load_from_csv(path, labels=False):\n",
    "    contents = []\n",
    "    with open(path) as csv_file:\n",
    "        csv_reader = csv.reader(csv_file, delimiter=';')\n",
    "        if labels:\n",
    "            labels = next(csv_reader)\n",
    "        for row in csv_reader:\n",
    "            contents.append([float(i) for i in row])\n",
    "        if labels:\n",
    "            return (contents, labels)\n",
    "        return contents\n",
    "\n",
    "# Load train data and names of features from CSV file\n",
    "data, feature_names = load_from_csv('./data/winequality-redTrainData.csv', labels=True)\n",
    "\n",
    "# Load labels for datapoints\n",
    "labels = load_from_csv('./data/winequality-redTrainLabel.csv')\n",
    "\n",
    "# Load test data. Like train data, also has labels.\n",
    "test_data, test_features = load_from_csv('./data/winequality-redTestData.csv', labels=True)\n",
    "\n",
    "\n",
    "# Combine data with labels\n",
    "labeled_data = [data[i] + labels[i] for i in range(len(data))]"
   ]
  }
 ],
 "metadata": {
  "kernelspec": {
   "display_name": "Python 3",
   "language": "python",
   "name": "python3"
  },
  "language_info": {
   "codemirror_mode": {
    "name": "ipython",
    "version": 3
   },
   "file_extension": ".py",
   "mimetype": "text/x-python",
   "name": "python",
   "nbconvert_exporter": "python",
   "pygments_lexer": "ipython3",
   "version": "3.6.8"
  }
 },
 "nbformat": 4,
 "nbformat_minor": 4
}
