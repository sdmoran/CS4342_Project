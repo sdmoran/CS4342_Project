{
 "cells": [
  {
   "cell_type": "code",
   "execution_count": null,
   "metadata": {},
   "outputs": [],
   "source": [
    "# Imports\n",
    "import csv"
   ]
  },
  {
   "cell_type": "code",
   "execution_count": 13,
   "metadata": {},
   "outputs": [
    {
     "name": "stdout",
     "output_type": "stream",
     "text": [
      "1279\n"
     ]
    }
   ],
   "source": [
    "# Loads a CSV file from the given path. Labels is a boolean indicating whether or not the first row gives the column labels.\n",
    "def load_from_csv(path, labels=False):\n",
    "    contents = []\n",
    "    with open(path) as csv_file:\n",
    "        csv_reader = csv.reader(csv_file)\n",
    "        if labels:\n",
    "            labels = next(csv_reader)\n",
    "        for row in csv_reader:\n",
    "            contents.append(row)\n",
    "        if labels:\n",
    "            return (contents, labels)\n",
    "        return contents\n",
    "\n",
    "# Load data and names of features from CSV file\n",
    "data, feature_names = load_from_csv('./data/winequality-redTrainData.csv', labels=True)\n",
    "print(len(data))\n",
    "\n",
    "# Load labels for datapoints\n",
    "labels = load_from_csv('./data/winequality-redTrainLabel.csv')\n",
    "\n",
    "# Load test data\n",
    "test = load_from_csv('./data/winequality-redTestData.csv')"
   ]
  },
  {
   "cell_type": "code",
   "execution_count": null,
   "metadata": {},
   "outputs": [],
   "source": []
  },
  {
   "cell_type": "code",
   "execution_count": null,
   "metadata": {},
   "outputs": [],
   "source": []
  }
 ],
 "metadata": {
  "kernelspec": {
   "display_name": "Python 3",
   "language": "python",
   "name": "python3"
  },
  "language_info": {
   "codemirror_mode": {
    "name": "ipython",
    "version": 3
   },
   "file_extension": ".py",
   "mimetype": "text/x-python",
   "name": "python",
   "nbconvert_exporter": "python",
   "pygments_lexer": "ipython3",
   "version": "3.6.8"
  }
 },
 "nbformat": 4,
 "nbformat_minor": 4
}
